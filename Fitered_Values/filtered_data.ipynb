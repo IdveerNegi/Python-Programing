{
 "cells": [
  {
   "cell_type": "markdown",
   "metadata": {},
   "source": [
    "### Import necessary Libraries"
   ]
  },
  {
   "cell_type": "code",
   "execution_count": 1,
   "metadata": {},
   "outputs": [],
   "source": [
    "import pandas as pd\n",
    "import numpy as np"
   ]
  },
  {
   "cell_type": "code",
   "execution_count": 5,
   "metadata": {},
   "outputs": [
    {
     "data": {
      "text/html": [
       "<div>\n",
       "<style scoped>\n",
       "    .dataframe tbody tr th:only-of-type {\n",
       "        vertical-align: middle;\n",
       "    }\n",
       "\n",
       "    .dataframe tbody tr th {\n",
       "        vertical-align: top;\n",
       "    }\n",
       "\n",
       "    .dataframe thead th {\n",
       "        text-align: right;\n",
       "    }\n",
       "</style>\n",
       "<table border=\"1\" class=\"dataframe\">\n",
       "  <thead>\n",
       "    <tr style=\"text-align: right;\">\n",
       "      <th></th>\n",
       "      <th>customer_shipping_city</th>\n",
       "      <th>customer_shipping_state</th>\n",
       "      <th>customer_shipping_zip</th>\n",
       "      <th>total_in_cents</th>\n",
       "    </tr>\n",
       "  </thead>\n",
       "  <tbody>\n",
       "    <tr>\n",
       "      <td>0</td>\n",
       "      <td>Bristol</td>\n",
       "      <td>GLS</td>\n",
       "      <td>BS36 2UQ</td>\n",
       "      <td>81199</td>\n",
       "    </tr>\n",
       "    <tr>\n",
       "      <td>1</td>\n",
       "      <td>Bristol</td>\n",
       "      <td>GLS</td>\n",
       "      <td>BS36 2UQ</td>\n",
       "      <td>77164</td>\n",
       "    </tr>\n",
       "    <tr>\n",
       "      <td>2</td>\n",
       "      <td>Bristol</td>\n",
       "      <td>GLS</td>\n",
       "      <td>BS36 2UQ</td>\n",
       "      <td>75699</td>\n",
       "    </tr>\n",
       "    <tr>\n",
       "      <td>3</td>\n",
       "      <td>Bristol</td>\n",
       "      <td>GLS</td>\n",
       "      <td>BS36 2UQ</td>\n",
       "      <td>75699</td>\n",
       "    </tr>\n",
       "    <tr>\n",
       "      <td>4</td>\n",
       "      <td>Welwyn</td>\n",
       "      <td>HRT</td>\n",
       "      <td>AL6 9RG</td>\n",
       "      <td>75600</td>\n",
       "    </tr>\n",
       "    <tr>\n",
       "      <td>5</td>\n",
       "      <td>Bristol</td>\n",
       "      <td>GLS</td>\n",
       "      <td>BS36 2UQ</td>\n",
       "      <td>75600</td>\n",
       "    </tr>\n",
       "    <tr>\n",
       "      <td>6</td>\n",
       "      <td>Bristol</td>\n",
       "      <td>GLS</td>\n",
       "      <td>BS36 2UQ</td>\n",
       "      <td>74650</td>\n",
       "    </tr>\n",
       "  </tbody>\n",
       "</table>\n",
       "</div>"
      ],
      "text/plain": [
       "  customer_shipping_city customer_shipping_state customer_shipping_zip  \\\n",
       "0                Bristol                     GLS              BS36 2UQ   \n",
       "1                Bristol                     GLS              BS36 2UQ   \n",
       "2                Bristol                     GLS              BS36 2UQ   \n",
       "3                Bristol                     GLS              BS36 2UQ   \n",
       "4                 Welwyn                     HRT               AL6 9RG   \n",
       "5                Bristol                     GLS              BS36 2UQ   \n",
       "6                Bristol                     GLS              BS36 2UQ   \n",
       "\n",
       "   total_in_cents  \n",
       "0           81199  \n",
       "1           77164  \n",
       "2           75699  \n",
       "3           75699  \n",
       "4           75600  \n",
       "5           75600  \n",
       "6           74650  "
      ]
     },
     "execution_count": 5,
     "metadata": {},
     "output_type": "execute_result"
    }
   ],
   "source": [
    "df = pd.read_csv(r\"C:/Users/Rahul Verma/Desktop/Book1.csv\") #Path to data\n",
    "df.head(7)"
   ]
  },
  {
   "cell_type": "markdown",
   "metadata": {},
   "source": [
    "### Problem Statement : Add \"total_in_cents\" of every country and make a file which consist total cents earn from a city."
   ]
  },
  {
   "cell_type": "code",
   "execution_count": 6,
   "metadata": {},
   "outputs": [],
   "source": [
    "# print(List_Of_Categories_In_Column)\n",
    "cols=list(df['customer_shipping_city'].value_counts().index)  "
   ]
  },
  {
   "cell_type": "code",
   "execution_count": 9,
   "metadata": {},
   "outputs": [
    {
     "data": {
      "text/plain": [
       "4655"
      ]
     },
     "execution_count": 9,
     "metadata": {},
     "output_type": "execute_result"
    }
   ],
   "source": [
    "len(cols)"
   ]
  },
  {
   "cell_type": "code",
   "execution_count": 10,
   "metadata": {},
   "outputs": [],
   "source": [
    "# dataframe to store values\n",
    "temp = pd.DataFrame()"
   ]
  },
  {
   "cell_type": "code",
   "execution_count": 11,
   "metadata": {},
   "outputs": [],
   "source": [
    "temp[\"cities\"] = cols"
   ]
  },
  {
   "cell_type": "code",
   "execution_count": 24,
   "metadata": {},
   "outputs": [],
   "source": [
    "for ind, col in enumerate(temp.cities):\n",
    "    temp.loc[ind, \"sum\"] = df[df.customer_shipping_city == col][\"total_in_cents\"].sum()"
   ]
  },
  {
   "cell_type": "code",
   "execution_count": 51,
   "metadata": {},
   "outputs": [],
   "source": [
    "df2 = df.drop_duplicates(subset=\"customer_shipping_city\")"
   ]
  },
  {
   "cell_type": "code",
   "execution_count": 56,
   "metadata": {},
   "outputs": [],
   "source": [
    "for ind, col in enumerate(temp.cities):\n",
    "    temp.loc[ind, \"shipping_state\"] = df2[df2.customer_shipping_city == col][\"customer_shipping_state\"].values"
   ]
  },
  {
   "cell_type": "code",
   "execution_count": 57,
   "metadata": {},
   "outputs": [],
   "source": [
    "for ind, col in enumerate(temp.cities):\n",
    "    temp.loc[ind, \"shipping_zip\"] = df2[df2.customer_shipping_city == col][\"customer_shipping_zip\"].values"
   ]
  },
  {
   "cell_type": "code",
   "execution_count": 66,
   "metadata": {},
   "outputs": [
    {
     "data": {
      "text/html": [
       "<div>\n",
       "<style scoped>\n",
       "    .dataframe tbody tr th:only-of-type {\n",
       "        vertical-align: middle;\n",
       "    }\n",
       "\n",
       "    .dataframe tbody tr th {\n",
       "        vertical-align: top;\n",
       "    }\n",
       "\n",
       "    .dataframe thead th {\n",
       "        text-align: right;\n",
       "    }\n",
       "</style>\n",
       "<table border=\"1\" class=\"dataframe\">\n",
       "  <thead>\n",
       "    <tr style=\"text-align: right;\">\n",
       "      <th></th>\n",
       "      <th>cities</th>\n",
       "      <th>sum</th>\n",
       "      <th>shipping_state</th>\n",
       "      <th>shipping_zip</th>\n",
       "    </tr>\n",
       "  </thead>\n",
       "  <tbody>\n",
       "    <tr>\n",
       "      <td>0</td>\n",
       "      <td>Southwold</td>\n",
       "      <td>9397.0</td>\n",
       "      <td>SFK</td>\n",
       "      <td>IP18 6WA</td>\n",
       "    </tr>\n",
       "    <tr>\n",
       "      <td>1</td>\n",
       "      <td>Littleborough</td>\n",
       "      <td>27793.0</td>\n",
       "      <td>LAN</td>\n",
       "      <td>OL15 0ET</td>\n",
       "    </tr>\n",
       "    <tr>\n",
       "      <td>2</td>\n",
       "      <td>Chigwell</td>\n",
       "      <td>36684.0</td>\n",
       "      <td>ESS</td>\n",
       "      <td>IG7 5BP</td>\n",
       "    </tr>\n",
       "    <tr>\n",
       "      <td>3</td>\n",
       "      <td>Bridlington</td>\n",
       "      <td>331625.0</td>\n",
       "      <td>ERY</td>\n",
       "      <td>YO16 6TA</td>\n",
       "    </tr>\n",
       "    <tr>\n",
       "      <td>4</td>\n",
       "      <td>Yateley</td>\n",
       "      <td>306222.0</td>\n",
       "      <td>H</td>\n",
       "      <td>GU46 6JX</td>\n",
       "    </tr>\n",
       "  </tbody>\n",
       "</table>\n",
       "</div>"
      ],
      "text/plain": [
       "          cities       sum shipping_state shipping_zip\n",
       "0      Southwold    9397.0            SFK     IP18 6WA\n",
       "1  Littleborough   27793.0            LAN     OL15 0ET\n",
       "2       Chigwell   36684.0            ESS      IG7 5BP\n",
       "3    Bridlington  331625.0            ERY     YO16 6TA\n",
       "4        Yateley  306222.0              H     GU46 6JX"
      ]
     },
     "execution_count": 66,
     "metadata": {},
     "output_type": "execute_result"
    }
   ],
   "source": [
    "temp.head()"
   ]
  },
  {
   "cell_type": "code",
   "execution_count": 69,
   "metadata": {},
   "outputs": [],
   "source": [
    "temp.to_csv('filtered_data.csv' ,index = False)"
   ]
  }
 ],
 "metadata": {
  "kernelspec": {
   "display_name": "Python 3",
   "language": "python",
   "name": "python3"
  },
  "language_info": {
   "codemirror_mode": {
    "name": "ipython",
    "version": 3
   },
   "file_extension": ".py",
   "mimetype": "text/x-python",
   "name": "python",
   "nbconvert_exporter": "python",
   "pygments_lexer": "ipython3",
   "version": "3.7.4"
  }
 },
 "nbformat": 4,
 "nbformat_minor": 2
}
